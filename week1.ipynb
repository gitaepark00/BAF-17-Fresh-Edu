{
 "cells": [
  {
   "cell_type": "code",
   "execution_count": null,
   "id": "e87d997a",
   "metadata": {},
   "outputs": [],
   "source": [
    "import pandas as pd\n",
    "import numpy as np\n",
    "import seaborn as sns\n",
    "\n",
    "plt.rc('font',family='Malgun Gothic')\n",
    "plt.rc('axes',unicode_minus=False)\n",
    "matplotlib inline\n",
    "from Ipython.display import set_matplotlib_formats\n",
    "\n",
    "pd.read_csv(\"data/상가(상권)정보_의료기관_201909.csv\", low_memory=False)\n",
    "df.shape\n",
    "df.head()\n",
    "df.tail(10)\n",
    "df.sample()\n",
    "df.info()"
   ]
  },
  {
   "cell_type": "markdown",
   "id": "6db91ebd",
   "metadata": {},
   "source": [
    "#1. 공공데이터 포털에서 공유받은 자료 불러오기\n",
    "## pandas 모듈, read_csv() 코드활용\n",
    "## 자료의 시각화관련  (글꼴)\n",
    "## 데이터 구조파악/요약하는 방법 (tail, head 함수활용)"
   ]
  },
  {
   "cell_type": "code",
   "execution_count": null,
   "id": "bc76965c",
   "metadata": {},
   "outputs": [],
   "source": [
    "df.isnull()\n",
    "df.isnull().sum()\n",
    "null_count.plot()\n",
    "null_count.plot.bar()\n",
    "df_null_count=null_count.reset_index()\n",
    "df_null_count.head()\n",
    "\n",
    "df_null_count.columns=[\"칼럼명\",\"결측치수\"]\n",
    "df_null_count.head()\n",
    "df_null_count.sort_values(by=\"결측치수\")\n",
    "df_null_count.sort_values(by=\"결측치수\",ascending=False).head(10)\n",
    "\n",
    "df[\"지점명\"].head()\n",
    "drop_columns=df_null_count_top[\"칼럼명\"].tolist()\n",
    "df[drop_columns].head()\n",
    "df.drop(drop_columns,axis=1)\n",
    "print(df.shape)\n",
    "df.info()"
   ]
  },
  {
   "cell_type": "markdown",
   "id": "b6018420",
   "metadata": {},
   "source": [
    "#2. 결측치 다루기\n",
    "## 기본 그래프 그리기 (x축 옵션 설정)\n",
    "## 데이터 프레임으로 변환, 칼럼명변환하여 결측치확인\n",
    "## 결측치 제거 (df.drop())\n"
   ]
  },
  {
   "cell_type": "code",
   "execution_count": null,
   "id": "bd351bf7",
   "metadata": {},
   "outputs": [],
   "source": [
    "df.dtypes\n",
    "df[\"위도\"].mean()\n",
    "df[\"위도\"].median()\n",
    "df[\"위도\"].max()\n",
    "df[\"위도\"].min()\n",
    "df[\"위도\"].count()\n",
    "df[\"위도\"].describe()\n",
    "df[[\"위도\",\"경도\"]].describe()\n",
    "df[\"위도\"].describe(include=\"object\")"
   ]
  },
  {
   "cell_type": "markdown",
   "id": "189468b7",
   "metadata": {},
   "source": [
    "#3. 기초 통계값 확인하기\n",
    "## df[].()을 활용하여 데이터타입, 평균 중앙값 등 기초 통계량을구할 수 있음\n",
    "## descibe() 함수를 통해 한번에 요약된 표 출력가능\n",
    "## 문자형자료를 요약하면, 결측치는 제외되며 최빈값등의 통계량 확인가능\n"
   ]
  },
  {
   "cell_type": "code",
   "execution_count": null,
   "id": "ea2d0c45",
   "metadata": {},
   "outputs": [],
   "source": [
    "df[\"상권업종대분류명\"].unique()\n",
    "df[\"상권업종대분류명\"].nunique()\n",
    "df[\"상권업종대분류명\"]\n",
    "len(df[\"상권업종대분류명\"].unique())\n",
    "df[\"시도명\"].head()\n",
    "df[\"시도명\"]\n",
    "city.plot.hist()\n",
    "city.plot.barch()\n",
    "city.plot.pie()\n"
   ]
  },
  {
   "cell_type": "markdown",
   "id": "fe88a025",
   "metadata": {},
   "source": [
    "#4. 문자열 데이터 요약\n",
    "## .unique() , len을 활용하여 문자열 데이터 요약\n",
    "## 막대 그래프, 파이차트 등으로 시각화 가능"
   ]
  },
  {
   "cell_type": "code",
   "execution_count": null,
   "id": "e5db8686",
   "metadata": {},
   "outputs": [],
   "source": [
    "sns.countplot(data=df, x=\"시도명\" )\n",
    "sns.countplot(data=df, y=\"시도명\" )\n",
    "c=df[\"상권업종대분류명\"].value_count()\n",
    "df[\"상권업종중분류명\"].value_count()\n",
    "n=df[\"상권업종대분류명\"].value_count(normalize=True)\n",
    "df[\"상권업종소분류명\"].value_count()\n",
    "c.plot.bar()\n",
    "n.plot.pie()\n",
    "c.plot.barch()\n"
   ]
  },
  {
   "cell_type": "markdown",
   "id": "fe11bfb7",
   "metadata": {},
   "source": [
    "#5. 데이터 요약하기\n",
    "\n",
    "## seaborn 활용, 깔끔한 시각화 가능하나 큰 데이터의 경우 속도 낮음\n",
    "## 그룹화 기준 바꿔서 그래프 그려 시각화 가능\n",
    "## 그래프 내 옵션\n"
   ]
  },
  {
   "cell_type": "code",
   "execution_count": null,
   "id": "ca04a984",
   "metadata": {},
   "outputs": [],
   "source": [
    "df_medical=df[df[\"상권업종중분류명\"]== \"약국/한약방\"].copy()\n",
    "df_medical.head()\n",
    "df[df[\"상권업종대분류명\"]== \"의료\"][\"상권업종중분류명\"]\n",
    "df.loc[df[\"상권업종대분류명\"]== \"의료\",\"상권업종중분류명\"].value_counts()\n",
    "\n",
    "m=df[\"상권업종대분류명\"]== \"의료\"\n",
    "df.loc[m,\"상권업종중분류명\"].value_counts()\n",
    "df[\"상호명\"].value_counts().head(10)\n",
    "\n",
    "df_medi[\"상호명\"].value_count().head()\n",
    "df[\"상권업종소분류명\"]==\"약국\"\n",
    "df[\"시도명\"]==\"서울특별시\"\n",
    "df_seoul_drug=df[(df[\"상권업종소분류명\"]==\"약국\" & df[\"시도명\"]==\"서울특별시\")]\n",
    "df_seoul_drug.head(1)\n",
    "\n"
   ]
  },
  {
   "cell_type": "markdown",
   "id": "20958fb4",
   "metadata": {},
   "source": [
    "#6. 데이터 추출\n",
    "\n",
    "## 데이터에 색인 넣기 및 여러 조건을 넣어서 색인 넣기 가능 (이때 괄호로 묶어서 오류 방지)\n",
    "## 색인 넣은 데이터 원하는 기준으로 새 데이터로 추출\n"
   ]
  },
  {
   "cell_type": "code",
   "execution_count": null,
   "id": "e32cd137",
   "metadata": {},
   "outputs": [],
   "source": [
    "c=df_seoul_drug[\"시군구명\"].value_counts()\n",
    "c.head()\n",
    "c=df_seoul_drug[\"시군구명\"].value_counts(normallize=True)\n",
    "c.plot.bar()\n",
    "df[(df[\"상권업종소분류명\"]==\"종합병원\") & (df[\"시도명\"]==\"서울특별시\")]\n",
    "df_seoul_hospital=df[(df[\"상권업종소분류명\"]==\"종합병원\") & (df[\"시도명\"]==\"서울특별시\")].copy()\n",
    "df_seoul_hospital[\"시군구명\"].value_counts()\n",
    "\n",
    "df_seoul_hospital[\"상호명\"].str.contains(\"종합병원\")\n",
    "df_seoul_hospital.loc[-df_seoul_hospital[\"상호명\"].str.contains(\"종합병원\")].unique()\n",
    "df_seoul_hospital[\"상호명\"].str.contains(\"꽃배달\")\n",
    "df_seoul_hospital[\"상호명\"].str.contains(\"의료기\")\n",
    "drop_row=df_seoul_hospital[\"상호명\"].str.contains(\"꽃배달|의료기|장례식장|상담소|어린이집\").index\n",
    "drop_row=drop_row.tolist()\n",
    "df_seoul_hospital[df_seoul_hospital[\"상호명\"].str.endwith(\"의원\")].index\n",
    "df_seoul_hospital[\"시군구명\"].value_counts.plot.bar\n",
    "\n"
   ]
  },
  {
   "cell_type": "markdown",
   "id": "30bf3ee3",
   "metadata": {},
   "source": [
    "#7. 문자형 데이터 전처리\n",
    "\n",
    "## 문자형 데이터 색인 (.str.contains())\n",
    "##  .index 활용, 인덱스 숫자 추출\n",
    "## .str.endwith() 활용, 특정 문자형자료만 추출"
   ]
  },
  {
   "cell_type": "code",
   "execution_count": null,
   "id": "6a0bfb10",
   "metadata": {},
   "outputs": [],
   "source": [
    "df_seoul=df[df[\"시도명\"]==\"서울특별시\"].copy()\n",
    "df_seoul.shape\n",
    "df_seoul[\"시군구명\"].value_counts().head()\n",
    "df_seoul[\"시군구명\"].value_counts().plot.bar(figsize=(10,4))\n",
    "plt.figure(figsize=(15,4))\n",
    "df_seoul[[\"경도\",\"위도\",\"시군구명\"]].plot.scatter(x=\"경도\",y=\"위도\",figsize=(8,7),grid=True)\n",
    "\n",
    "sns.scatterplot(data=df_seoul,x=\"경도\",y=\"위도\",hue=\"시군구명\")\n",
    "sns.scatterplot(data=df_seoul,x=\"경도\",y=\"위도\",hue=\"상권업종중분류명\")\n",
    "sns.scatterplot(data=df,x=\"경도\",y=\"위도\",hue=\"시도명\")\n",
    "\n",
    "\n",
    "\n"
   ]
  },
  {
   "cell_type": "markdown",
   "id": "b9195188",
   "metadata": {},
   "source": [
    "#8. 데이터 산점도로 표현\n",
    "\n",
    "## 데이터에서 전처리된 자료(종합병원에 맞는 자료) 활용, 산점도 그리기\n",
    "## 문자형 데이터의 산점도에서 X, y축에 위도,경도 활용 등 옵션넣어 시각화\n"
   ]
  },
  {
   "cell_type": "code",
   "execution_count": null,
   "id": "063bddcb",
   "metadata": {},
   "outputs": [],
   "source": [
    "import folium\n",
    "folium.Map()\n",
    "df_seoul_hospital[\"위도\"].mean()\n",
    "df_seoul_hospital[\"경도\"].mean()\n",
    "map=folium.Map(location=[df_seoul_hospital[\"위도\"].mean(), df_seoul_hospital[\"경도\"].mean()], zoom_start=12)\n",
    "\n",
    "for n in df_seoul_hospital.index:\n",
    "    name=df_seoul_hospital.loc[n,\"상호명\"]\n",
    "    adress=df_seoul_hospital.loc[n,\"도로명주소\"]\n",
    "    popup=f\"{name}-{adress}\"\n",
    "    location=[df_seoul_hospital.loc[n,\"위도\"], name=df_seoul_hospital.loc[n,\"경도\"]]\n",
    "    # print(df_seoul_hospital.loc[n,\"위도\"])\n",
    "    folium.Marker(\n",
    "        location=location,\n",
    "        popup=popup,\n",
    "    ).add_to(map)\n"
   ]
  },
  {
   "cell_type": "markdown",
   "id": "19c962a5",
   "metadata": {},
   "source": [
    "#9. folium 활용 / 주소데이터 시각화\n",
    "\n",
    "## conda install 로 아나콘다에서 따로 설치 필요\n",
    "## folium.map() 의 옵션으로 특정 지도 출력\n",
    "## for문 활용 하여 지도에 마커표시"
   ]
  }
 ],
 "metadata": {
  "language_info": {
   "name": "python"
  }
 },
 "nbformat": 4,
 "nbformat_minor": 5
}
